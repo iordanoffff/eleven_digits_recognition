{
 "cells": [
  {
   "cell_type": "code",
   "execution_count": null,
   "metadata": {},
   "outputs": [],
   "source": [
    "from imutils.perspective import four_point_transform\n",
    "from imutils import contours\n",
    "import imutils\n",
    "import cv2\n",
    "import numpy as np"
   ]
  },
  {
   "cell_type": "code",
   "execution_count": null,
   "metadata": {},
   "outputs": [],
   "source": [
    "# load the example image\n",
    "image = cv2.imread(\"test.jpg\")\n",
    "im = cv2.imread(\"test.jpg\")\n",
    " \n",
    "# pre-process the image by resizing it, converting it to\n",
    "# graycale, blurring it, and computing an edge map\n",
    "image = imutils.resize(image, height=500)\n",
    "gray = cv2.cvtColor(image, cv2.COLOR_BGR2GRAY)\n",
    "blurred = cv2.GaussianBlur(gray, (5, 5), 0)\n",
    "edged = cv2.Canny(blurred, 50, 200, 255)"
   ]
  },
  {
   "cell_type": "code",
   "execution_count": null,
   "metadata": {
    "collapsed": true
   },
   "outputs": [],
   "source": [
    "cnts = cv2.findContours(edged.copy(), cv2.RETR_EXTERNAL,\n",
    "\tcv2.CHAIN_APPROX_SIMPLE)\n",
    "cnts = cnts[0] if imutils.is_cv2() else cnts[1]\n",
    "cnts = sorted(cnts, key=cv2.contourArea, reverse=True)\n",
    "displayCnt = None\n",
    " \n",
    "# loop over the contours\n",
    "for c in cnts:\n",
    "\t# approximate the contour\n",
    "\tperi = cv2.arcLength(c, True)\n",
    "\tapprox = cv2.approxPolyDP(c, 0.02 * peri, True)\n",
    " \n",
    "\t# if the contour has four vertices, then we have found\n",
    "\t# the thermostat display\n",
    "\tif len(approx) == 4:\n",
    "\t\tdisplayCnt = approx\n",
    "\t\tbreak"
   ]
  },
  {
   "cell_type": "code",
   "execution_count": null,
   "metadata": {},
   "outputs": [],
   "source": [
    "cv2.imwrite( \"warped.jpg\", warped)\n",
    "cv2.imwrite( \"output.jpg\", output )"
   ]
  },
  {
   "cell_type": "code",
   "execution_count": null,
   "metadata": {},
   "outputs": [
    {
     "name": "stdout",
     "output_type": "stream",
     "text": [
      "86\n",
      "18\n"
     ]
    }
   ],
   "source": [
    "warped = four_point_transform(gray, displayCnt.reshape(4, 2))\n",
    "output = four_point_transform(image, displayCnt.reshape(4, 2))\n",
    "\n",
    "thresh = cv2.adaptiveThreshold(warped,255,cv2.ADAPTIVE_THRESH_MEAN_C,cv2.THRESH_BINARY,21,5)\n",
    "\n",
    "_ , contours,hierarchy = cv2.findContours(thresh,cv2.RETR_CCOMP ,cv2.CHAIN_APPROX_SIMPLE)\n",
    "\n",
    "samples =  np.empty((0,100))\n",
    "responses = []\n",
    "keys = [i for i in range(48,58)]\n",
    "\n",
    "print(len(contours))\n",
    "\n",
    "digitCnts = []\n",
    "\n",
    "for cnt in contours:\n",
    "    if cv2.contourArea(cnt)>5:\n",
    "        cntRec = cv2.boundingRect(cnt)\n",
    "        [x,y,w,h] = cntRec\n",
    "        if ((w >= 10 and w <= 100) and (h >= 20 and h <= 200)) or ((w >= 5 and w <= 20) and (h >= 5 and h <= 20) and (abs(w-h) < 2)):\n",
    "            digitCnts.append(cntRec)\n",
    "            \n",
    "print(len(digitCnts))\n",
    "  \n",
    " \n",
    "for cntRec in digitCnts:\n",
    "    [x,y,w,h] = cntRec\n",
    "    cv2.rectangle(thresh,(x,y),(x+w,y+h),(0,0,255),2)\n",
    "    roi = thresh[y:y+h,x:x+w]\n",
    "    roismall = cv2.resize(roi,(10,10))\n",
    "    cv2.imshow('norm',thresh)\n",
    "    key = cv2.waitKey(0)\n",
    "    if key == 27:  # (escape to quit)\n",
    "        sys.exit()\n",
    "    elif key in keys:\n",
    "        responses.append(int(chr(key)))\n",
    "        sample = roismall.reshape((1,100))\n",
    "        samples = np.append(samples,sample,0)\n",
    "                \n",
    "#cv2.imshow('norm',im2)\n",
    "key = cv2.waitKey(0)\n",
    "cv2.destroyAllWindows()"
   ]
  },
  {
   "cell_type": "code",
   "execution_count": null,
   "metadata": {
    "collapsed": true
   },
   "outputs": [],
   "source": []
  }
 ],
 "metadata": {
  "kernelspec": {
   "display_name": "Python 3",
   "language": "python",
   "name": "python3"
  },
  "language_info": {
   "codemirror_mode": {
    "name": "ipython",
    "version": 3
   },
   "file_extension": ".py",
   "mimetype": "text/x-python",
   "name": "python",
   "nbconvert_exporter": "python",
   "pygments_lexer": "ipython3",
   "version": "3.6.2"
  }
 },
 "nbformat": 4,
 "nbformat_minor": 2
}
